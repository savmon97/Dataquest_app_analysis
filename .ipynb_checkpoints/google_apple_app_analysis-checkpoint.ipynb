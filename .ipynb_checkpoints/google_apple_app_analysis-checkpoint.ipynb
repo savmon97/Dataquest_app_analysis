{
 "cells": [
  {
   "cell_type": "markdown",
   "metadata": {},
   "source": [
    "# App Profile Recommendation\n",
    "\n",
    "The goal of this project is to find mobile app profiles in the Google Play and Apple Store that are profitable for their respective markets. As a thought experiment, we are playing the roles of data analysts for a company that builds these apps, and our focus is provide software engineers the necessary information to make data-driven decisions on how to make popular, profitable, apps.\n",
    "\n",
    "Many apps are free to download and install, and our main source of revenue consists of in-app ads. This means our revenue for any given app is mostly influenced by the number of users who use our app — the more users that see and engage with the ads, the better. Our goal for this project is to analyze data to help our developers understand what type of apps are likely to attract more users."
   ]
  }
 ],
 "metadata": {
  "kernelspec": {
   "display_name": "Python 3",
   "language": "python",
   "name": "python3"
  },
  "language_info": {
   "codemirror_mode": {
    "name": "ipython",
    "version": 3
   },
   "file_extension": ".py",
   "mimetype": "text/x-python",
   "name": "python",
   "nbconvert_exporter": "python",
   "pygments_lexer": "ipython3",
   "version": "3.8.3"
  }
 },
 "nbformat": 4,
 "nbformat_minor": 4
}
